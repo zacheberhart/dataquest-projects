{
 "cells": [
  {
   "cell_type": "code",
   "execution_count": 1,
   "metadata": {
    "collapsed": true
   },
   "outputs": [],
   "source": [
    "import pandas as pd\n",
    "import matplotlib.pyplot as plt\n",
    "import seaborn as sns\n",
    "import numpy as np\n",
    "\n",
    "%matplotlib inline"
   ]
  },
  {
   "cell_type": "code",
   "execution_count": 2,
   "metadata": {
    "collapsed": true
   },
   "outputs": [],
   "source": [
    "star_wars = pd.read_csv('star_wars.csv', encoding = 'ISO-8859-1')"
   ]
  },
  {
   "cell_type": "code",
   "execution_count": 3,
   "metadata": {
    "collapsed": true
   },
   "outputs": [],
   "source": [
    "df = star_wars"
   ]
  },
  {
   "cell_type": "code",
   "execution_count": 4,
   "metadata": {
    "collapsed": false
   },
   "outputs": [
    {
     "data": {
      "text/html": [
       "<div>\n",
       "<table border=\"1\" class=\"dataframe\">\n",
       "  <thead>\n",
       "    <tr style=\"text-align: right;\">\n",
       "      <th></th>\n",
       "      <th>RespondentID</th>\n",
       "      <th>Have you seen any of the 6 films in the Star Wars franchise?</th>\n",
       "      <th>Do you consider yourself to be a fan of the Star Wars film franchise?</th>\n",
       "      <th>Which of the following Star Wars films have you seen? Please select all that apply.</th>\n",
       "      <th>Unnamed: 4</th>\n",
       "      <th>Unnamed: 5</th>\n",
       "      <th>Unnamed: 6</th>\n",
       "      <th>Unnamed: 7</th>\n",
       "      <th>Unnamed: 8</th>\n",
       "      <th>Please rank the Star Wars films in order of preference with 1 being your favorite film in the franchise and 6 being your least favorite film.</th>\n",
       "      <th>...</th>\n",
       "      <th>Unnamed: 28</th>\n",
       "      <th>Which character shot first?</th>\n",
       "      <th>Are you familiar with the Expanded Universe?</th>\n",
       "      <th>Do you consider yourself to be a fan of the Expanded Universe?ÂÃ¦</th>\n",
       "      <th>Do you consider yourself to be a fan of the Star Trek franchise?</th>\n",
       "      <th>Gender</th>\n",
       "      <th>Age</th>\n",
       "      <th>Household Income</th>\n",
       "      <th>Education</th>\n",
       "      <th>Location (Census Region)</th>\n",
       "    </tr>\n",
       "  </thead>\n",
       "  <tbody>\n",
       "    <tr>\n",
       "      <th>0</th>\n",
       "      <td>NaN</td>\n",
       "      <td>Response</td>\n",
       "      <td>Response</td>\n",
       "      <td>Star Wars: Episode I  The Phantom Menace</td>\n",
       "      <td>Star Wars: Episode II  Attack of the Clones</td>\n",
       "      <td>Star Wars: Episode III  Revenge of the Sith</td>\n",
       "      <td>Star Wars: Episode IV  A New Hope</td>\n",
       "      <td>Star Wars: Episode V The Empire Strikes Back</td>\n",
       "      <td>Star Wars: Episode VI Return of the Jedi</td>\n",
       "      <td>Star Wars: Episode I  The Phantom Menace</td>\n",
       "      <td>...</td>\n",
       "      <td>Yoda</td>\n",
       "      <td>Response</td>\n",
       "      <td>Response</td>\n",
       "      <td>Response</td>\n",
       "      <td>Response</td>\n",
       "      <td>Response</td>\n",
       "      <td>Response</td>\n",
       "      <td>Response</td>\n",
       "      <td>Response</td>\n",
       "      <td>Response</td>\n",
       "    </tr>\n",
       "    <tr>\n",
       "      <th>1</th>\n",
       "      <td>3.292880e+09</td>\n",
       "      <td>Yes</td>\n",
       "      <td>Yes</td>\n",
       "      <td>Star Wars: Episode I  The Phantom Menace</td>\n",
       "      <td>Star Wars: Episode II  Attack of the Clones</td>\n",
       "      <td>Star Wars: Episode III  Revenge of the Sith</td>\n",
       "      <td>Star Wars: Episode IV  A New Hope</td>\n",
       "      <td>Star Wars: Episode V The Empire Strikes Back</td>\n",
       "      <td>Star Wars: Episode VI Return of the Jedi</td>\n",
       "      <td>3</td>\n",
       "      <td>...</td>\n",
       "      <td>Very favorably</td>\n",
       "      <td>I don't understand this question</td>\n",
       "      <td>Yes</td>\n",
       "      <td>No</td>\n",
       "      <td>No</td>\n",
       "      <td>Male</td>\n",
       "      <td>18-29</td>\n",
       "      <td>NaN</td>\n",
       "      <td>High school degree</td>\n",
       "      <td>South Atlantic</td>\n",
       "    </tr>\n",
       "  </tbody>\n",
       "</table>\n",
       "<p>2 rows × 38 columns</p>\n",
       "</div>"
      ],
      "text/plain": [
       "   RespondentID Have you seen any of the 6 films in the Star Wars franchise?  \\\n",
       "0           NaN                                           Response             \n",
       "1  3.292880e+09                                                Yes             \n",
       "\n",
       "  Do you consider yourself to be a fan of the Star Wars film franchise?  \\\n",
       "0                                           Response                      \n",
       "1                                                Yes                      \n",
       "\n",
       "  Which of the following Star Wars films have you seen? Please select all that apply.  \\\n",
       "0           Star Wars: Episode I  The Phantom Menace                                    \n",
       "1           Star Wars: Episode I  The Phantom Menace                                    \n",
       "\n",
       "                                    Unnamed: 4  \\\n",
       "0  Star Wars: Episode II  Attack of the Clones   \n",
       "1  Star Wars: Episode II  Attack of the Clones   \n",
       "\n",
       "                                    Unnamed: 5  \\\n",
       "0  Star Wars: Episode III  Revenge of the Sith   \n",
       "1  Star Wars: Episode III  Revenge of the Sith   \n",
       "\n",
       "                          Unnamed: 6  \\\n",
       "0  Star Wars: Episode IV  A New Hope   \n",
       "1  Star Wars: Episode IV  A New Hope   \n",
       "\n",
       "                                     Unnamed: 7  \\\n",
       "0  Star Wars: Episode V The Empire Strikes Back   \n",
       "1  Star Wars: Episode V The Empire Strikes Back   \n",
       "\n",
       "                                 Unnamed: 8  \\\n",
       "0  Star Wars: Episode VI Return of the Jedi   \n",
       "1  Star Wars: Episode VI Return of the Jedi   \n",
       "\n",
       "  Please rank the Star Wars films in order of preference with 1 being your favorite film in the franchise and 6 being your least favorite film.  \\\n",
       "0           Star Wars: Episode I  The Phantom Menace                                                                                              \n",
       "1                                                  3                                                                                              \n",
       "\n",
       "            ...                Unnamed: 28       Which character shot first?  \\\n",
       "0           ...                       Yoda                          Response   \n",
       "1           ...             Very favorably  I don't understand this question   \n",
       "\n",
       "  Are you familiar with the Expanded Universe?  \\\n",
       "0                                     Response   \n",
       "1                                          Yes   \n",
       "\n",
       "  Do you consider yourself to be a fan of the Expanded Universe?ÂÃ¦  \\\n",
       "0                                           Response                   \n",
       "1                                                 No                   \n",
       "\n",
       "  Do you consider yourself to be a fan of the Star Trek franchise?    Gender  \\\n",
       "0                                           Response                Response   \n",
       "1                                                 No                    Male   \n",
       "\n",
       "        Age Household Income           Education Location (Census Region)  \n",
       "0  Response         Response            Response                 Response  \n",
       "1     18-29              NaN  High school degree           South Atlantic  \n",
       "\n",
       "[2 rows x 38 columns]"
      ]
     },
     "execution_count": 4,
     "metadata": {},
     "output_type": "execute_result"
    }
   ],
   "source": [
    "df.head(2)"
   ]
  },
  {
   "cell_type": "code",
   "execution_count": 5,
   "metadata": {
    "collapsed": false
   },
   "outputs": [
    {
     "data": {
      "text/plain": [
       "Index(['RespondentID',\n",
       "       'Have you seen any of the 6 films in the Star Wars franchise?',\n",
       "       'Do you consider yourself to be a fan of the Star Wars film franchise?',\n",
       "       'Which of the following Star Wars films have you seen? Please select all that apply.',\n",
       "       'Unnamed: 4', 'Unnamed: 5', 'Unnamed: 6', 'Unnamed: 7', 'Unnamed: 8',\n",
       "       'Please rank the Star Wars films in order of preference with 1 being your favorite film in the franchise and 6 being your least favorite film.',\n",
       "       'Unnamed: 10', 'Unnamed: 11', 'Unnamed: 12', 'Unnamed: 13',\n",
       "       'Unnamed: 14',\n",
       "       'Please state whether you view the following characters favorably, unfavorably, or are unfamiliar with him/her.',\n",
       "       'Unnamed: 16', 'Unnamed: 17', 'Unnamed: 18', 'Unnamed: 19',\n",
       "       'Unnamed: 20', 'Unnamed: 21', 'Unnamed: 22', 'Unnamed: 23',\n",
       "       'Unnamed: 24', 'Unnamed: 25', 'Unnamed: 26', 'Unnamed: 27',\n",
       "       'Unnamed: 28', 'Which character shot first?',\n",
       "       'Are you familiar with the Expanded Universe?',\n",
       "       'Do you consider yourself to be a fan of the Expanded Universe?ÂÃ¦',\n",
       "       'Do you consider yourself to be a fan of the Star Trek franchise?',\n",
       "       'Gender', 'Age', 'Household Income', 'Education',\n",
       "       'Location (Census Region)'],\n",
       "      dtype='object')"
      ]
     },
     "execution_count": 5,
     "metadata": {},
     "output_type": "execute_result"
    }
   ],
   "source": [
    "df.columns"
   ]
  },
  {
   "cell_type": "code",
   "execution_count": 6,
   "metadata": {
    "collapsed": false
   },
   "outputs": [],
   "source": [
    "df = df[pd.notnull(df['RespondentID'])]"
   ]
  },
  {
   "cell_type": "code",
   "execution_count": 7,
   "metadata": {
    "collapsed": false
   },
   "outputs": [
    {
     "data": {
      "text/plain": [
       "Yes    936\n",
       "No     250\n",
       "Name: Have you seen any of the 6 films in the Star Wars franchise?, dtype: int64"
      ]
     },
     "execution_count": 7,
     "metadata": {},
     "output_type": "execute_result"
    }
   ],
   "source": [
    "df['Have you seen any of the 6 films in the Star Wars franchise?'].value_counts()"
   ]
  },
  {
   "cell_type": "code",
   "execution_count": 8,
   "metadata": {
    "collapsed": false
   },
   "outputs": [
    {
     "data": {
      "text/plain": [
       "Yes    552\n",
       "No     284\n",
       "Name: Do you consider yourself to be a fan of the Star Wars film franchise?, dtype: int64"
      ]
     },
     "execution_count": 8,
     "metadata": {},
     "output_type": "execute_result"
    }
   ],
   "source": [
    "df['Do you consider yourself to be a fan of the Star Wars film franchise?'].value_counts()"
   ]
  },
  {
   "cell_type": "code",
   "execution_count": 9,
   "metadata": {
    "collapsed": true
   },
   "outputs": [],
   "source": [
    "yes_no = {'Yes': True, 'No': False}"
   ]
  },
  {
   "cell_type": "code",
   "execution_count": 10,
   "metadata": {
    "collapsed": false
   },
   "outputs": [
    {
     "name": "stderr",
     "output_type": "stream",
     "text": [
      "/dataquest/system/env/python3/lib/python3.4/site-packages/ipykernel/__main__.py:7: SettingWithCopyWarning: \n",
      "A value is trying to be set on a copy of a slice from a DataFrame.\n",
      "Try using .loc[row_indexer,col_indexer] = value instead\n",
      "\n",
      "See the caveats in the documentation: http://pandas.pydata.org/pandas-docs/stable/indexing.html#indexing-view-versus-copy\n"
     ]
    }
   ],
   "source": [
    "cols = [\n",
    "    'Have you seen any of the 6 films in the Star Wars franchise?',\n",
    "    'Do you consider yourself to be a fan of the Star Wars film franchise?'\n",
    "]\n",
    "\n",
    "for col in cols:\n",
    "    df[col] = df[col].map(yes_no)"
   ]
  },
  {
   "cell_type": "code",
   "execution_count": 11,
   "metadata": {
    "collapsed": false
   },
   "outputs": [
    {
     "name": "stdout",
     "output_type": "stream",
     "text": [
      "Star Wars: Episode I  The Phantom Menace    673\n",
      "Name: Which of the following Star Wars films have you seen? Please select all that apply., dtype: int64\n",
      "Star Wars: Episode II  Attack of the Clones    571\n",
      "Name: Unnamed: 4, dtype: int64\n",
      "Star Wars: Episode III  Revenge of the Sith    550\n",
      "Name: Unnamed: 5, dtype: int64\n",
      "Star Wars: Episode IV  A New Hope    607\n",
      "Name: Unnamed: 6, dtype: int64\n",
      "Star Wars: Episode V The Empire Strikes Back    758\n",
      "Name: Unnamed: 7, dtype: int64\n",
      "Star Wars: Episode VI Return of the Jedi    738\n",
      "Name: Unnamed: 8, dtype: int64\n"
     ]
    }
   ],
   "source": [
    "movie_cols = ['Which of the following Star Wars films have you seen? Please select all that apply.',\n",
    "              'Unnamed: 4',\n",
    "              'Unnamed: 5',\n",
    "              'Unnamed: 6',\n",
    "              'Unnamed: 7',\n",
    "              'Unnamed: 8'\n",
    "]\n",
    "\n",
    "for movie in movie_cols:\n",
    "    print(df[movie].value_counts())"
   ]
  },
  {
   "cell_type": "code",
   "execution_count": 12,
   "metadata": {
    "collapsed": false
   },
   "outputs": [],
   "source": [
    "movie_map = {\n",
    "    'Star Wars: Episode I  The Phantom Menace': True,\n",
    "    'Star Wars: Episode II  Attack of the Clones': True,\n",
    "    'Star Wars: Episode III  Revenge of the Sith': True,\n",
    "    'Star Wars: Episode IV  A New Hope': True,\n",
    "    'Star Wars: Episode V The Empire Strikes Back': True,\n",
    "    'Star Wars: Episode VI Return of the Jedi': True,\n",
    "    np.nan: False\n",
    "    }"
   ]
  },
  {
   "cell_type": "code",
   "execution_count": 13,
   "metadata": {
    "collapsed": false
   },
   "outputs": [
    {
     "name": "stderr",
     "output_type": "stream",
     "text": [
      "/dataquest/system/env/python3/lib/python3.4/site-packages/ipykernel/__main__.py:2: SettingWithCopyWarning: \n",
      "A value is trying to be set on a copy of a slice from a DataFrame.\n",
      "Try using .loc[row_indexer,col_indexer] = value instead\n",
      "\n",
      "See the caveats in the documentation: http://pandas.pydata.org/pandas-docs/stable/indexing.html#indexing-view-versus-copy\n",
      "  from ipykernel import kernelapp as app\n"
     ]
    }
   ],
   "source": [
    "for movie in movie_cols:\n",
    "    df[movie] = df[movie].map(movie_map)"
   ]
  },
  {
   "cell_type": "code",
   "execution_count": 14,
   "metadata": {
    "collapsed": false
   },
   "outputs": [
    {
     "name": "stdout",
     "output_type": "stream",
     "text": [
      "True     673\n",
      "False    513\n",
      "Name: Which of the following Star Wars films have you seen? Please select all that apply., dtype: int64\n",
      "False    615\n",
      "True     571\n",
      "Name: Unnamed: 4, dtype: int64\n",
      "False    636\n",
      "True     550\n",
      "Name: Unnamed: 5, dtype: int64\n",
      "True     607\n",
      "False    579\n",
      "Name: Unnamed: 6, dtype: int64\n",
      "True     758\n",
      "False    428\n",
      "Name: Unnamed: 7, dtype: int64\n",
      "True     738\n",
      "False    448\n",
      "Name: Unnamed: 8, dtype: int64\n"
     ]
    }
   ],
   "source": [
    "for i in range(len(movie_cols)):\n",
    "    print(df[movie_cols[i]].value_counts()) "
   ]
  },
  {
   "cell_type": "code",
   "execution_count": 15,
   "metadata": {
    "collapsed": false
   },
   "outputs": [
    {
     "name": "stderr",
     "output_type": "stream",
     "text": [
      "/dataquest/system/env/python3/lib/python3.4/site-packages/ipykernel/__main__.py:5: SettingWithCopyWarning: \n",
      "A value is trying to be set on a copy of a slice from a DataFrame.\n",
      "Try using .loc[row_indexer,col_indexer] = value instead\n",
      "\n",
      "See the caveats in the documentation: http://pandas.pydata.org/pandas-docs/stable/indexing.html#indexing-view-versus-copy\n"
     ]
    }
   ],
   "source": [
    "counter = 1\n",
    "\n",
    "for movie in movie_cols:\n",
    "    movie_label = 'seen_movie_' + str(counter)\n",
    "    df[movie_label] = df[movie]\n",
    "    df = df.drop(movie, 1)\n",
    "    counter += 1"
   ]
  },
  {
   "cell_type": "code",
   "execution_count": 16,
   "metadata": {
    "collapsed": false
   },
   "outputs": [],
   "source": [
    "df[df.columns[3:9]] = df[df.columns[3:9]].astype(float)"
   ]
  },
  {
   "cell_type": "code",
   "execution_count": 17,
   "metadata": {
    "collapsed": false
   },
   "outputs": [],
   "source": [
    "# Change the names of the \"Rank Movie\" questions\n",
    "\n",
    "counter = 1\n",
    "\n",
    "for i in range(3, 9):\n",
    "    movie_label = 'rank_movie_' + str(counter)\n",
    "    column_label = str(df.columns[i])\n",
    "    df.rename(columns = {column_label: movie_label}, inplace = True)\n",
    "    counter += 1"
   ]
  },
  {
   "cell_type": "code",
   "execution_count": 18,
   "metadata": {
    "collapsed": false
   },
   "outputs": [
    {
     "data": {
      "image/png": "[encoded data removed]",
      "text/plain": [
       "<matplotlib.figure.Figure at 0x7f5e6545ed30>"
      ]
     },
     "metadata": {},
     "output_type": "display_data"
    }
   ],
   "source": [
    "df[['rank_movie_1',\n",
    "    'rank_movie_2',\n",
    "    'rank_movie_3',\n",
    "    'rank_movie_4',\n",
    "    'rank_movie_5',\n",
    "    'rank_movie_6']].plot(kind = 'box',\n",
    "                          rot = 45,\n",
    "                          ylim = (0, 7));"
   ]
  },
  {
   "cell_type": "code",
   "execution_count": 19,
   "metadata": {
    "collapsed": false
   },
   "outputs": [
    {
     "data": {
      "image/png": "[encoded data removed]",
      "text/plain": [
       "<matplotlib.figure.Figure at 0x7f5ed8ddf828>"
      ]
     },
     "metadata": {},
     "output_type": "display_data"
    }
   ],
   "source": [
    "df[['rank_movie_1',\n",
    "    'rank_movie_2',\n",
    "    'rank_movie_3',\n",
    "    'rank_movie_4',\n",
    "    'rank_movie_5',\n",
    "    'rank_movie_6']].mean().plot(kind = 'bar',\n",
    "                                 rot = 45,\n",
    "                                 ylim = (0, 7));"
   ]
  },
  {
   "cell_type": "code",
   "execution_count": 20,
   "metadata": {
    "collapsed": false
   },
   "outputs": [
    {
     "data": {
      "text/plain": [
       "Index(['RespondentID',\n",
       "       'Have you seen any of the 6 films in the Star Wars franchise?',\n",
       "       'Do you consider yourself to be a fan of the Star Wars film franchise?',\n",
       "       'rank_movie_1', 'rank_movie_2', 'rank_movie_3', 'rank_movie_4',\n",
       "       'rank_movie_5', 'rank_movie_6',\n",
       "       'Please state whether you view the following characters favorably, unfavorably, or are unfamiliar with him/her.',\n",
       "       'Unnamed: 16', 'Unnamed: 17', 'Unnamed: 18', 'Unnamed: 19',\n",
       "       'Unnamed: 20', 'Unnamed: 21', 'Unnamed: 22', 'Unnamed: 23',\n",
       "       'Unnamed: 24', 'Unnamed: 25', 'Unnamed: 26', 'Unnamed: 27',\n",
       "       'Unnamed: 28', 'Which character shot first?',\n",
       "       'Are you familiar with the Expanded Universe?',\n",
       "       'Do you consider yourself to be a fan of the Expanded Universe?ÂÃ¦',\n",
       "       'Do you consider yourself to be a fan of the Star Trek franchise?',\n",
       "       'Gender', 'Age', 'Household Income', 'Education',\n",
       "       'Location (Census Region)', 'seen_movie_1', 'seen_movie_2',\n",
       "       'seen_movie_3', 'seen_movie_4', 'seen_movie_5', 'seen_movie_6'],\n",
       "      dtype='object')"
      ]
     },
     "execution_count": 20,
     "metadata": {},
     "output_type": "execute_result"
    }
   ],
   "source": [
    "df.columns"
   ]
  },
  {
   "cell_type": "code",
   "execution_count": 21,
   "metadata": {
    "collapsed": false
   },
   "outputs": [],
   "source": [
    "binary_cols = [df.columns[2], df.columns[26], df.columns[27]]"
   ]
  },
  {
   "cell_type": "code",
   "execution_count": 22,
   "metadata": {
    "collapsed": false
   },
   "outputs": [
    {
     "data": {
      "text/plain": [
       "['Do you consider yourself to be a fan of the Star Wars film franchise?',\n",
       " 'Do you consider yourself to be a fan of the Star Trek franchise?',\n",
       " 'Gender']"
      ]
     },
     "execution_count": 22,
     "metadata": {},
     "output_type": "execute_result"
    }
   ],
   "source": [
    "binary_cols"
   ]
  },
  {
   "cell_type": "code",
   "execution_count": 42,
   "metadata": {
    "collapsed": false
   },
   "outputs": [],
   "source": [
    "# create dfs for star wars fans and non-fans\n",
    "star_wars_fans = df[df[binary_cols[0]] == True]\n",
    "not_star_wars_fans = df[df[binary_cols[0]] == False]\n",
    "\n",
    "# create dfs for star trek fans and non-fans\n",
    "star_trek_fans = df[df[binary_cols[1]] == 'Yes']\n",
    "not_star_trek_fans = df[df[binary_cols[1]] == 'No']\n",
    "\n",
    "# create dfs for males and females\n",
    "males = df[df[binary_cols[2]] == 'Male']\n",
    "females = df[df[binary_cols[2]] == 'Female']"
   ]
  },
  {
   "cell_type": "code",
   "execution_count": 24,
   "metadata": {
    "collapsed": true
   },
   "outputs": [],
   "source": [
    "def movie_rank_boxplot(df):\n",
    "    df[['rank_movie_1',\n",
    "    'rank_movie_2',\n",
    "    'rank_movie_3',\n",
    "    'rank_movie_4',\n",
    "    'rank_movie_5',\n",
    "    'rank_movie_6']].plot(kind = 'box',\n",
    "                          rot = 45,\n",
    "                          ylim = (0, 7));\n",
    "\n",
    "def movie_rank_bar(df):\n",
    "    df[['rank_movie_1',\n",
    "    'rank_movie_2',\n",
    "    'rank_movie_3',\n",
    "    'rank_movie_4',\n",
    "    'rank_movie_5',\n",
    "    'rank_movie_6']].mean().plot(kind = 'bar',\n",
    "                                 rot = 45,\n",
    "                                 ylim = (0, 7));"
   ]
  },
  {
   "cell_type": "code",
   "execution_count": 25,
   "metadata": {
    "collapsed": false
   },
   "outputs": [
    {
     "data": {
      "image/png": "[encoded data removed]",
      "text/plain": [
       "<matplotlib.figure.Figure at 0x7f5ed8d7b3c8>"
      ]
     },
     "metadata": {},
     "output_type": "display_data"
    },
    {
     "data": {
      "image/png": "[encoded data removed]",
      "text/plain": [
       "<matplotlib.figure.Figure at 0x7f5ed8c46a20>"
      ]
     },
     "metadata": {},
     "output_type": "display_data"
    }
   ],
   "source": [
    "movie_rank_boxplot(males);\n",
    "movie_rank_boxplot(females);"
   ]
  },
  {
   "cell_type": "code",
   "execution_count": 26,
   "metadata": {
    "collapsed": false
   },
   "outputs": [
    {
     "data": {
      "image/png": "[encoded data removed]",
      "text/plain": [
       "<matplotlib.figure.Figure at 0x7f5ed8b9f1d0>"
      ]
     },
     "metadata": {},
     "output_type": "display_data"
    }
   ],
   "source": [
    "movie_rank_bar(males);"
   ]
  },
  {
   "cell_type": "code",
   "execution_count": 27,
   "metadata": {
    "collapsed": false
   },
   "outputs": [
    {
     "data": {
      "image/png": "[encoded data removed]",
      "text/plain": [
       "<matplotlib.figure.Figure at 0x7f5ed8af7780>"
      ]
     },
     "metadata": {},
     "output_type": "display_data"
    }
   ],
   "source": [
    "movie_rank_bar(males);"
   ]
  },
  {
   "cell_type": "code",
   "execution_count": null,
   "metadata": {
    "collapsed": false
   },
   "outputs": [],
   "source": []
  },
  {
   "cell_type": "code",
   "execution_count": 28,
   "metadata": {
    "collapsed": false
   },
   "outputs": [],
   "source": [
    "clean_movie_rank_cols = ['rank_movie_1',\n",
    "                         'rank_movie_2',\n",
    "                         'rank_movie_3',\n",
    "                         'rank_movie_4',\n",
    "                         'rank_movie_5',\n",
    "                         'rank_movie_6']\n",
    "\n",
    "clean_seen_movie_cols = ['seen_movie_1',\n",
    "                         'seen_movie_2',\n",
    "                         'seen_movie_3',\n",
    "                         'seen_movie_4',\n",
    "                         'seen_movie_5',\n",
    "                         'seen_movie_6',]"
   ]
  },
  {
   "cell_type": "code",
   "execution_count": 29,
   "metadata": {
    "collapsed": false
   },
   "outputs": [],
   "source": [
    "def binary_bar(df1, df2, col_list, labels = ['label_1', 'label_2'], mean = False):\n",
    "    \n",
    "    # return Series objects of each df's means\n",
    "    if mean:\n",
    "        \n",
    "        ser1 = df1[col_list].mean()\n",
    "        ser2 = df2[col_list].mean()\n",
    "    \n",
    "    # return Series of each df\n",
    "    else:\n",
    "        \n",
    "        ser1 = df1[col_list].sum()\n",
    "        ser2 = df2[col_list].sum()\n",
    "    \n",
    "    # aggregate the two Series objects\n",
    "    avg_concat_df = pd.concat([ser1, ser2], axis = 1)\n",
    "    \n",
    "    # rename the columns so that they have the correct labels\n",
    "    avg_concat_df.rename(columns = {0: labels[0], 1: labels[1]}, inplace = True)\n",
    "    \n",
    "    # return chart\n",
    "    avg_concat_df.plot(kind = 'bar', rot = 45);"
   ]
  },
  {
   "cell_type": "code",
   "execution_count": 34,
   "metadata": {
    "collapsed": false
   },
   "outputs": [
    {
     "data": {
      "image/png": "[encoded data removed]",
      "text/plain": [
       "<matplotlib.figure.Figure at 0x7f5ed8bb2550>"
      ]
     },
     "metadata": {},
     "output_type": "display_data"
    }
   ],
   "source": [
    "binary_bar(males,\n",
    "           females,\n",
    "           clean_movie_rank_cols, labels = ['Male', 'Female'],\n",
    "           mean = True)"
   ]
  },
  {
   "cell_type": "code",
   "execution_count": 35,
   "metadata": {
    "collapsed": false
   },
   "outputs": [
    {
     "data": {
      "image/png": "[encoded data removed]",
      "text/plain": [
       "<matplotlib.figure.Figure at 0x7f5ed8979940>"
      ]
     },
     "metadata": {},
     "output_type": "display_data"
    }
   ],
   "source": [
    "binary_bar(males,\n",
    "           females,\n",
    "           clean_seen_movie_cols,\n",
    "           labels = ['Male', 'Female'])"
   ]
  },
  {
   "cell_type": "code",
   "execution_count": 36,
   "metadata": {
    "collapsed": false
   },
   "outputs": [
    {
     "data": {
      "image/png": "[encoded data removed]",
      "text/plain": [
       "<matplotlib.figure.Figure at 0x7f5ed8b01940>"
      ]
     },
     "metadata": {},
     "output_type": "display_data"
    }
   ],
   "source": [
    "binary_bar(star_wars_fans,\n",
    "           not_star_wars_fans,\n",
    "           clean_movie_rank_cols,\n",
    "           labels = ['Star Wars Fans', 'Not Fans'],\n",
    "           mean = True)"
   ]
  },
  {
   "cell_type": "code",
   "execution_count": 37,
   "metadata": {
    "collapsed": false
   },
   "outputs": [
    {
     "data": {
      "image/png": "[encoded data removed]",
      "text/plain": [
       "<matplotlib.figure.Figure at 0x7f5ed89caa58>"
      ]
     },
     "metadata": {},
     "output_type": "display_data"
    }
   ],
   "source": [
    "binary_bar(star_wars_fans,\n",
    "           not_star_wars_fans,\n",
    "           clean_seen_movie_cols,\n",
    "           labels = ['Star Wars Fans', 'Not Fans'])"
   ]
  },
  {
   "cell_type": "code",
   "execution_count": 44,
   "metadata": {
    "collapsed": false
   },
   "outputs": [
    {
     "data": {
      "image/png": "[encoded data removed]",
      "text/plain": [
       "<matplotlib.figure.Figure at 0x7f5ed8e7d7b8>"
      ]
     },
     "metadata": {},
     "output_type": "display_data"
    }
   ],
   "source": [
    "binary_bar(star_trek_fans,\n",
    "           not_star_trek_fans,\n",
    "           clean_movie_rank_cols,\n",
    "           labels = ['Star Trek Fans', 'Not Fans'],\n",
    "           mean = True)"
   ]
  },
  {
   "cell_type": "code",
   "execution_count": 45,
   "metadata": {
    "collapsed": false
   },
   "outputs": [
    {
     "data": {
      "image/png": "[encoded data removed]",
      "text/plain": [
       "<matplotlib.figure.Figure at 0x7f5ed8b0c940>"
      ]
     },
     "metadata": {},
     "output_type": "display_data"
    }
   ],
   "source": [
    "binary_bar(star_trek_fans,\n",
    "           not_star_trek_fans,\n",
    "           clean_seen_movie_cols,\n",
    "           labels = ['Star Trek Fans', 'Not Fans'])"
   ]
  },
  {
   "cell_type": "code",
   "execution_count": 46,
   "metadata": {
    "collapsed": false
   },
   "outputs": [
    {
     "data": {
      "text/plain": [
       "Index(['RespondentID',\n",
       "       'Have you seen any of the 6 films in the Star Wars franchise?',\n",
       "       'Do you consider yourself to be a fan of the Star Wars film franchise?',\n",
       "       'rank_movie_1', 'rank_movie_2', 'rank_movie_3', 'rank_movie_4',\n",
       "       'rank_movie_5', 'rank_movie_6',\n",
       "       'Please state whether you view the following characters favorably, unfavorably, or are unfamiliar with him/her.',\n",
       "       'Unnamed: 16', 'Unnamed: 17', 'Unnamed: 18', 'Unnamed: 19',\n",
       "       'Unnamed: 20', 'Unnamed: 21', 'Unnamed: 22', 'Unnamed: 23',\n",
       "       'Unnamed: 24', 'Unnamed: 25', 'Unnamed: 26', 'Unnamed: 27',\n",
       "       'Unnamed: 28', 'Which character shot first?',\n",
       "       'Are you familiar with the Expanded Universe?',\n",
       "       'Do you consider yourself to be a fan of the Expanded Universe?ÂÃ¦',\n",
       "       'Do you consider yourself to be a fan of the Star Trek franchise?',\n",
       "       'Gender', 'Age', 'Household Income', 'Education',\n",
       "       'Location (Census Region)', 'seen_movie_1', 'seen_movie_2',\n",
       "       'seen_movie_3', 'seen_movie_4', 'seen_movie_5', 'seen_movie_6'],\n",
       "      dtype='object')"
      ]
     },
     "execution_count": 46,
     "metadata": {},
     "output_type": "execute_result"
    }
   ],
   "source": [
    "df.columns"
   ]
  },
  {
   "cell_type": "code",
   "execution_count": 49,
   "metadata": {
    "collapsed": false
   },
   "outputs": [
    {
     "data": {
      "text/plain": [
       "1                                    Very favorably\n",
       "2                                               NaN\n",
       "3                                Somewhat favorably\n",
       "4                                    Very favorably\n",
       "5                                    Very favorably\n",
       "6                                    Very favorably\n",
       "7                                    Very favorably\n",
       "8                                    Very favorably\n",
       "9                                    Very favorably\n",
       "10      Neither favorably nor unfavorably (neutral)\n",
       "11                                              NaN\n",
       "12                                              NaN\n",
       "13                               Somewhat favorably\n",
       "14                                   Very favorably\n",
       "15                               Somewhat favorably\n",
       "16                                   Very favorably\n",
       "17      Neither favorably nor unfavorably (neutral)\n",
       "18                                   Very favorably\n",
       "19                                   Very favorably\n",
       "20                                   Very favorably\n",
       "21                                   Very favorably\n",
       "22      Neither favorably nor unfavorably (neutral)\n",
       "23                                   Very favorably\n",
       "24                                   Very favorably\n",
       "25                                   Very favorably\n",
       "26                                              NaN\n",
       "27                                   Very favorably\n",
       "28                                   Very favorably\n",
       "29                                   Very favorably\n",
       "30                                   Very favorably\n",
       "                           ...                     \n",
       "1157                                 Very favorably\n",
       "1158                                            NaN\n",
       "1159                                 Very favorably\n",
       "1160                                            NaN\n",
       "1161                             Somewhat favorably\n",
       "1162                             Somewhat favorably\n",
       "1163                             Somewhat favorably\n",
       "1164                                 Very favorably\n",
       "1165                             Somewhat favorably\n",
       "1166                                 Very favorably\n",
       "1167                                 Very favorably\n",
       "1168                                 Very favorably\n",
       "1169                                            NaN\n",
       "1170                                 Very favorably\n",
       "1171                                            NaN\n",
       "1172                                 Very favorably\n",
       "1173                                 Very favorably\n",
       "1174                                 Very favorably\n",
       "1175                                 Very favorably\n",
       "1176                                 Very favorably\n",
       "1177    Neither favorably nor unfavorably (neutral)\n",
       "1178                                 Very favorably\n",
       "1179                                            NaN\n",
       "1180                                 Very favorably\n",
       "1181                                 Very favorably\n",
       "1182                                 Very favorably\n",
       "1183                                 Very favorably\n",
       "1184                                            NaN\n",
       "1185                                 Very favorably\n",
       "1186                                 Very favorably\n",
       "Name: Please state whether you view the following characters favorably, unfavorably, or are unfamiliar with him/her., dtype: object"
      ]
     },
     "execution_count": 49,
     "metadata": {},
     "output_type": "execute_result"
    }
   ],
   "source": [
    "df['Please state whether you view the following characters favorably, unfavorably, or are unfamiliar with him/her.']"
   ]
  },
  {
   "cell_type": "code",
   "execution_count": null,
   "metadata": {
    "collapsed": true
   },
   "outputs": [],
   "source": []
  }
 ],
 "metadata": {
  "kernelspec": {
   "display_name": "Python 3",
   "language": "python",
   "name": "python3"
  },
  "language_info": {
   "codemirror_mode": {
    "name": "ipython",
    "version": 3
   },
   "file_extension": ".py",
   "mimetype": "text/x-python",
   "name": "python",
   "nbconvert_exporter": "python",
   "pygments_lexer": "ipython3",
   "version": "3.4.3"
  }
 },
 "nbformat": 4,
 "nbformat_minor": 0
}
