{
 "cells": [
  {
   "cell_type": "code",
   "execution_count": 1,
   "metadata": {
    "collapsed": true
   },
   "outputs": [],
   "source": [
    "import pandas as pd\n",
    "import numpy as np\n",
    "import seaborn as sns\n",
    "import matplotlib.pyplot as plt\n",
    "\n",
    "%matplotlib inline"
   ]
  },
  {
   "cell_type": "code",
   "execution_count": 2,
   "metadata": {
    "collapsed": true
   },
   "outputs": [],
   "source": [
    "police_killings = pd.read_csv('police_killings.csv', encoding = 'ISO-8859-1')"
   ]
  },
  {
   "cell_type": "code",
   "execution_count": 3,
   "metadata": {
    "collapsed": true
   },
   "outputs": [],
   "source": [
    "# make an easier reference (DQ required police_killings)\n",
    "\n",
    "df = police_killings"
   ]
  },
  {
   "cell_type": "code",
   "execution_count": 4,
   "metadata": {
    "collapsed": false
   },
   "outputs": [
    {
     "name": "stdout",
     "output_type": "stream",
     "text": [
      "Index(['name', 'age', 'gender', 'raceethnicity', 'month', 'day', 'year',\n",
      "       'streetaddress', 'city', 'state', 'latitude', 'longitude', 'state_fp',\n",
      "       'county_fp', 'tract_ce', 'geo_id', 'county_id', 'namelsad',\n",
      "       'lawenforcementagency', 'cause', 'armed', 'pop', 'share_white',\n",
      "       'share_black', 'share_hispanic', 'p_income', 'h_income',\n",
      "       'county_income', 'comp_income', 'county_bucket', 'nat_bucket', 'pov',\n",
      "       'urate', 'college'],\n",
      "      dtype='object')\n"
     ]
    }
   ],
   "source": [
    "# also DQ requirement\n",
    "\n",
    "print(df.columns)"
   ]
  },
  {
   "cell_type": "code",
   "execution_count": 5,
   "metadata": {
    "collapsed": false
   },
   "outputs": [
    {
     "data": {
      "text/plain": [
       "White                     236\n",
       "Black                     135\n",
       "Hispanic/Latino            67\n",
       "Unknown                    15\n",
       "Asian/Pacific Islander     10\n",
       "Native American             4\n",
       "Name: raceethnicity, dtype: int64"
      ]
     },
     "execution_count": 5,
     "metadata": {},
     "output_type": "execute_result"
    }
   ],
   "source": [
    "# police killings by race\n",
    "\n",
    "df['raceethnicity'].value_counts()"
   ]
  },
  {
   "cell_type": "code",
   "execution_count": 6,
   "metadata": {
    "collapsed": false
   },
   "outputs": [
    {
     "data": {
      "image/png": "[encoded data removed]",
      "text/plain": [
       "<matplotlib.figure.Figure at 0x7f82d0426278>"
      ]
     },
     "metadata": {},
     "output_type": "display_data"
    }
   ],
   "source": [
    "# create bar chart of police killings per year by race\n",
    "\n",
    "fig, ax, = plt.subplots(figsize = (12, 5))\n",
    "\n",
    "# create lists for bar chart\n",
    "race_list = df['raceethnicity'].value_counts().index.tolist()\n",
    "race_kill_count = df['raceethnicity'].value_counts().values.tolist()\n",
    "\n",
    "ax.bar(np.arange(len(race_list)), race_kill_count, 0.4, align = 'center')\n",
    "ax.set_title('Police Killings per Year')\n",
    "\n",
    "# create x labels\n",
    "plt.xticks(np.arange(len(race_list)), race_list)\n",
    "\n",
    "# rotate x labels due to overlap\n",
    "plt.setp(ax.get_xticklabels(), rotation = 10)\n",
    "\n",
    "plt.show()"
   ]
  },
  {
   "cell_type": "code",
   "execution_count": 7,
   "metadata": {
    "collapsed": true
   },
   "outputs": [],
   "source": [
    "# create dict with population per race (importing csv doesn't work on web app)\n",
    "\n",
    "race_pop = {'White': 196817552,\n",
    "            'Hispanic/Latino': 50477594,\n",
    "            'Black': 37685848,\n",
    "            'Asian/Pacific Islander': 14946700,\n",
    "            'Unknown': 6570746,\n",
    "            'Native American': 2247098\n",
    "            }\n",
    "\n",
    "# convert to series\n",
    "race_pop = pd.Series(race_pop)"
   ]
  },
  {
   "cell_type": "code",
   "execution_count": 8,
   "metadata": {
    "collapsed": true
   },
   "outputs": [],
   "source": [
    "# convert to df\n",
    "race_pop_df = race_pop.to_frame()\n",
    "\n",
    "# rename population column\n",
    "race_pop_df.columns = ['population']\n",
    "\n",
    "# convert the previous value_count of police killings by race to df\n",
    "race_death_df = df['raceethnicity'].value_counts().to_frame()"
   ]
  },
  {
   "cell_type": "code",
   "execution_count": 9,
   "metadata": {
    "collapsed": true
   },
   "outputs": [],
   "source": [
    "# concatenate the two dataframes so that deaths per capita can be calculated\n",
    "\n",
    "race_pop_death_df = pd.concat([race_pop_df, race_death_df],\n",
    "                              axis = 1,\n",
    "                              join = 'inner')"
   ]
  },
  {
   "cell_type": "code",
   "execution_count": 10,
   "metadata": {
    "collapsed": true
   },
   "outputs": [],
   "source": [
    "# calculate deaths per capita\n",
    "\n",
    "race_pop_death_df['deaths_per_capita'] = race_pop_death_df['raceethnicity'] / race_pop_death_df['population']"
   ]
  },
  {
   "cell_type": "code",
   "execution_count": 11,
   "metadata": {
    "collapsed": false
   },
   "outputs": [
    {
     "data": {
      "text/html": [
       "<div>\n",
       "<table border=\"1\" class=\"dataframe\">\n",
       "  <thead>\n",
       "    <tr style=\"text-align: right;\">\n",
       "      <th></th>\n",
       "      <th>population</th>\n",
       "      <th>raceethnicity</th>\n",
       "      <th>deaths_per_capita</th>\n",
       "    </tr>\n",
       "  </thead>\n",
       "  <tbody>\n",
       "    <tr>\n",
       "      <th>White</th>\n",
       "      <td>196817552</td>\n",
       "      <td>236</td>\n",
       "      <td>1.199080e-06</td>\n",
       "    </tr>\n",
       "    <tr>\n",
       "      <th>Black</th>\n",
       "      <td>37685848</td>\n",
       "      <td>135</td>\n",
       "      <td>3.582247e-06</td>\n",
       "    </tr>\n",
       "    <tr>\n",
       "      <th>Hispanic/Latino</th>\n",
       "      <td>50477594</td>\n",
       "      <td>67</td>\n",
       "      <td>1.327322e-06</td>\n",
       "    </tr>\n",
       "    <tr>\n",
       "      <th>Unknown</th>\n",
       "      <td>6570746</td>\n",
       "      <td>15</td>\n",
       "      <td>2.282846e-06</td>\n",
       "    </tr>\n",
       "    <tr>\n",
       "      <th>Asian/Pacific Islander</th>\n",
       "      <td>14946700</td>\n",
       "      <td>10</td>\n",
       "      <td>6.690440e-07</td>\n",
       "    </tr>\n",
       "    <tr>\n",
       "      <th>Native American</th>\n",
       "      <td>2247098</td>\n",
       "      <td>4</td>\n",
       "      <td>1.780074e-06</td>\n",
       "    </tr>\n",
       "  </tbody>\n",
       "</table>\n",
       "</div>"
      ],
      "text/plain": [
       "                        population  raceethnicity  deaths_per_capita\n",
       "White                    196817552            236       1.199080e-06\n",
       "Black                     37685848            135       3.582247e-06\n",
       "Hispanic/Latino           50477594             67       1.327322e-06\n",
       "Unknown                    6570746             15       2.282846e-06\n",
       "Asian/Pacific Islander    14946700             10       6.690440e-07\n",
       "Native American            2247098              4       1.780074e-06"
      ]
     },
     "execution_count": 11,
     "metadata": {},
     "output_type": "execute_result"
    }
   ],
   "source": [
    "race_pop_death_df"
   ]
  },
  {
   "cell_type": "code",
   "execution_count": 12,
   "metadata": {
    "collapsed": true
   },
   "outputs": [],
   "source": [
    "# sort the df so that it displays as such on the bar chart\n",
    "\n",
    "race_pop_death_df.sort_values('deaths_per_capita',\n",
    "                              inplace = True,\n",
    "                              ascending = False)"
   ]
  },
  {
   "cell_type": "code",
   "execution_count": 13,
   "metadata": {
    "collapsed": true
   },
   "outputs": [],
   "source": [
    "# create lists for the bar chart (for whatever reason,\n",
    "# whenever I tried using another data format it wasn't working)\n",
    "\n",
    "race_list = race_pop_death_df.index.tolist()\n",
    "race_kill_capita_list = race_pop_death_df['deaths_per_capita'].tolist()"
   ]
  },
  {
   "cell_type": "code",
   "execution_count": 14,
   "metadata": {
    "collapsed": false
   },
   "outputs": [
    {
     "data": {
      "image/png": "[encoded data removed]",
      "text/plain": [
       "<matplotlib.figure.Figure at 0x7f833fc50518>"
      ]
     },
     "metadata": {},
     "output_type": "display_data"
    }
   ],
   "source": [
    "# create bar chart for police killings per capita by race\n",
    "\n",
    "fig, ax = plt.subplots(figsize = (10, 6))\n",
    "\n",
    "ax.bar(np.arange(len(race_list)),\n",
    "       race_kill_capita_list,\n",
    "       0.4,\n",
    "       align = 'center')\n",
    "\n",
    "ax.set_title('Police Killings per Capita by Race')\n",
    "\n",
    "# create x labels\n",
    "plt.xticks(np.arange(len(race_list)), race_list)\n",
    "\n",
    "# rotate x labels due to overlap\n",
    "plt.setp(ax.get_xticklabels(), rotation = 10)\n",
    "\n",
    "plt.show()"
   ]
  },
  {
   "cell_type": "code",
   "execution_count": 15,
   "metadata": {
    "collapsed": true
   },
   "outputs": [],
   "source": [
    "income = df['p_income']"
   ]
  },
  {
   "cell_type": "code",
   "execution_count": 16,
   "metadata": {
    "collapsed": true
   },
   "outputs": [],
   "source": [
    "income = income.apply(lambda x: 0 if x == '-' else x).astype(int)"
   ]
  },
  {
   "cell_type": "code",
   "execution_count": 17,
   "metadata": {
    "collapsed": false
   },
   "outputs": [
    {
     "data": {
      "text/plain": [
       "<matplotlib.axes._subplots.AxesSubplot at 0x7f833db95c50>"
      ]
     },
     "execution_count": 17,
     "metadata": {},
     "output_type": "execute_result"
    },
    {
     "data": {
      "image/png": "[encoded data removed]",
      "text/plain": [
       "<matplotlib.figure.Figure at 0x7f82d0416eb8>"
      ]
     },
     "metadata": {},
     "output_type": "display_data"
    }
   ],
   "source": [
    "income.hist(bins = 20)"
   ]
  },
  {
   "cell_type": "code",
   "execution_count": 18,
   "metadata": {
    "collapsed": true
   },
   "outputs": [],
   "source": [
    "p_income_pop = {'Under 25k': 97494000,\n",
    "                '25,000 to 50,000': 62034000,\n",
    "                '50,000 to 75,000': 31878000,\n",
    "                '75,000 to 100,000': 14875000,\n",
    "                '100k or More': 20755000}"
   ]
  },
  {
   "cell_type": "code",
   "execution_count": 19,
   "metadata": {
    "collapsed": true
   },
   "outputs": [],
   "source": [
    "pop_income_df = pd.Series(p_income_pop).to_frame()"
   ]
  },
  {
   "cell_type": "code",
   "execution_count": 20,
   "metadata": {
    "collapsed": true
   },
   "outputs": [],
   "source": [
    "income_list = income.values.tolist()"
   ]
  },
  {
   "cell_type": "code",
   "execution_count": 21,
   "metadata": {
    "collapsed": true
   },
   "outputs": [],
   "source": [
    "def income_brackets(income_list):\n",
    "    \n",
    "    # create blank income bracket dict\n",
    "    income_dict = {'Under 25k': 0,\n",
    "                '25,000 to 50,000': 0,\n",
    "                '50,000 to 75,000': 0,\n",
    "                '75,000 to 100,000': 0,\n",
    "                '100k or More': 0}\n",
    "    \n",
    "    # loop through list and add to dict\n",
    "    for item in income_list:\n",
    "        if item < 25000:\n",
    "            income_dict['Under 25k'] += 1\n",
    "        if item >= 25000 and item < 50000:\n",
    "            income_dict['25,000 to 50,000'] += 1\n",
    "        if item >= 50000 and item < 75000:\n",
    "            income_dict['50,000 to 75,000'] += 1\n",
    "        if item >= 75000 and item < 100000:\n",
    "            income_dict['75,000 to 100,000'] += 1\n",
    "        if item >= 100000:\n",
    "            income_dict['100k or More'] += 1\n",
    "    \n",
    "    # convert to Series\n",
    "    income_df = pd.Series(income_dict).to_frame()\n",
    "    \n",
    "    # return dict\n",
    "    return income_df"
   ]
  },
  {
   "cell_type": "code",
   "execution_count": 22,
   "metadata": {
    "collapsed": true
   },
   "outputs": [],
   "source": [
    "kill_income_df = income_brackets(income_list)"
   ]
  },
  {
   "cell_type": "code",
   "execution_count": 23,
   "metadata": {
    "collapsed": true
   },
   "outputs": [],
   "source": [
    "kill_income_df.columns = ['count']\n",
    "pop_income_df.columns = ['count']"
   ]
  },
  {
   "cell_type": "code",
   "execution_count": 24,
   "metadata": {
    "collapsed": true
   },
   "outputs": [],
   "source": [
    "# create norm column for killings\n",
    "kill_income_df['norm_count_kill'] = kill_income_df['count'] / kill_income_df['count'].sum()\n",
    "\n",
    "# create norm column for population\n",
    "pop_income_df['norm_count_pop'] = pop_income_df['count'] / pop_income_df['count'].sum()"
   ]
  },
  {
   "cell_type": "code",
   "execution_count": 25,
   "metadata": {
    "collapsed": true
   },
   "outputs": [],
   "source": [
    "norm_income_df = pd.concat([kill_income_df, pop_income_df],\n",
    "                           axis = 1,\n",
    "                           join = 'inner')"
   ]
  },
  {
   "cell_type": "code",
   "execution_count": 26,
   "metadata": {
    "collapsed": true
   },
   "outputs": [],
   "source": [
    "norm_income_df = norm_income_df[['norm_count_kill', 'norm_count_pop']]"
   ]
  },
  {
   "cell_type": "code",
   "execution_count": 27,
   "metadata": {
    "collapsed": false
   },
   "outputs": [
    {
     "data": {
      "text/html": [
       "<div>\n",
       "<table border=\"1\" class=\"dataframe\">\n",
       "  <thead>\n",
       "    <tr style=\"text-align: right;\">\n",
       "      <th></th>\n",
       "      <th>norm_count_kill</th>\n",
       "      <th>norm_count_pop</th>\n",
       "    </tr>\n",
       "  </thead>\n",
       "  <tbody>\n",
       "    <tr>\n",
       "      <th>100k or More</th>\n",
       "      <td>0.000000</td>\n",
       "      <td>0.091417</td>\n",
       "    </tr>\n",
       "    <tr>\n",
       "      <th>25,000 to 50,000</th>\n",
       "      <td>0.372591</td>\n",
       "      <td>0.273234</td>\n",
       "    </tr>\n",
       "    <tr>\n",
       "      <th>50,000 to 75,000</th>\n",
       "      <td>0.012848</td>\n",
       "      <td>0.140409</td>\n",
       "    </tr>\n",
       "    <tr>\n",
       "      <th>75,000 to 100,000</th>\n",
       "      <td>0.002141</td>\n",
       "      <td>0.065518</td>\n",
       "    </tr>\n",
       "    <tr>\n",
       "      <th>Under 25k</th>\n",
       "      <td>0.612420</td>\n",
       "      <td>0.429421</td>\n",
       "    </tr>\n",
       "  </tbody>\n",
       "</table>\n",
       "</div>"
      ],
      "text/plain": [
       "                   norm_count_kill  norm_count_pop\n",
       "100k or More              0.000000        0.091417\n",
       "25,000 to 50,000          0.372591        0.273234\n",
       "50,000 to 75,000          0.012848        0.140409\n",
       "75,000 to 100,000         0.002141        0.065518\n",
       "Under 25k                 0.612420        0.429421"
      ]
     },
     "execution_count": 27,
     "metadata": {},
     "output_type": "execute_result"
    }
   ],
   "source": [
    "norm_income_df"
   ]
  },
  {
   "cell_type": "code",
   "execution_count": 28,
   "metadata": {
    "collapsed": false
   },
   "outputs": [
    {
     "data": {
      "image/png": "[encoded data removed]",
      "text/plain": [
       "<matplotlib.figure.Figure at 0x7f833dadccf8>"
      ]
     },
     "metadata": {},
     "output_type": "display_data"
    }
   ],
   "source": [
    "# create lists for plotting\n",
    "income_list = norm_income_df.index.tolist()\n",
    "norm_count_kill_list = norm_income_df['norm_count_kill'].tolist()\n",
    "norm_count_pop_list = norm_income_df['norm_count_pop'].tolist()\n",
    "\n",
    "# create fig, ax\n",
    "fig, ax = plt.subplots(figsize = (10, 6))\n",
    "\n",
    "# plot population personal income\n",
    "ax.bar(np.arange(len(income_list)),\n",
    "       norm_count_pop_list,\n",
    "       0.3,\n",
    "       align = 'center',\n",
    "       color = 'blue')\n",
    "\n",
    "# plot killings personal income\n",
    "ax.bar(np.arange(len(income_list)) + 0.3,\n",
    "       norm_count_kill_list,\n",
    "       0.3,\n",
    "       align = 'center',\n",
    "       color = 'red')\n",
    "\n",
    "# set limit\n",
    "ax.set_ylim(0, 1)\n",
    "\n",
    "plt.xticks(np.arange(len(income_list)), income_list)\n",
    "#ax2.xticks(np.arange(len(income_list)), income_list)\n",
    "\n",
    "plt.show()"
   ]
  },
  {
   "cell_type": "code",
   "execution_count": 29,
   "metadata": {
    "collapsed": false
   },
   "outputs": [
    {
     "data": {
      "image/png": "[encoded data removed]",
      "text/plain": [
       "<matplotlib.figure.Figure at 0x7f833db74198>"
      ]
     },
     "metadata": {},
     "output_type": "display_data"
    }
   ],
   "source": [
    "# order the incomes (current list is alphabetical)\n",
    "ordered_income_list = ['Under 25k',\n",
    "               '25,000 to 50,000',\n",
    "               '50,000 to 75,000',\n",
    "               '75,000 to 100,000',\n",
    "               '100k or More']\n",
    "\n",
    "# plot bar chart (using pandas plotting method)\n",
    "norm_income_df.ix[ordered_income_list].plot(kind = 'bar')\n",
    "\n",
    "plt.show()"
   ]
  },
  {
   "cell_type": "code",
   "execution_count": 30,
   "metadata": {
    "collapsed": false
   },
   "outputs": [],
   "source": [
    "norm_income_df['difference'] = norm_income_df['norm_count_kill'] - norm_income_df['norm_count_pop']"
   ]
  },
  {
   "cell_type": "code",
   "execution_count": 31,
   "metadata": {
    "collapsed": false
   },
   "outputs": [
    {
     "data": {
      "image/png": "[encoded data removed]",
      "text/plain": [
       "<matplotlib.figure.Figure at 0x7f833d98fac8>"
      ]
     },
     "metadata": {},
     "output_type": "display_data"
    }
   ],
   "source": [
    "norm_income_df['difference'].ix[ordered_income_list].plot(kind = 'bar', title = 'Difference of Killings Amongst Different Incomes')\n",
    "\n",
    "plt.show()"
   ]
  },
  {
   "cell_type": "code",
   "execution_count": 32,
   "metadata": {
    "collapsed": true
   },
   "outputs": [],
   "source": [
    "state_pop = pd.read_csv('state_population.csv')"
   ]
  },
  {
   "cell_type": "code",
   "execution_count": 33,
   "metadata": {
    "collapsed": false
   },
   "outputs": [],
   "source": [
    "# assign state (index) and killings (values) to series\n",
    "counts = police_killings['state_fp'].value_counts()"
   ]
  },
  {
   "cell_type": "code",
   "execution_count": 34,
   "metadata": {
    "collapsed": true
   },
   "outputs": [],
   "source": [
    "states = pd.DataFrame({'STATE': counts.index, 'shootings': counts})"
   ]
  },
  {
   "cell_type": "code",
   "execution_count": 35,
   "metadata": {
    "collapsed": false
   },
   "outputs": [],
   "source": [
    "states = state_pop.merge(states, on = 'STATE')"
   ]
  },
  {
   "cell_type": "code",
   "execution_count": 36,
   "metadata": {
    "collapsed": true
   },
   "outputs": [],
   "source": [
    "states['pop_millions'] = states['POPESTIMATE2015'] / 1000000"
   ]
  },
  {
   "cell_type": "code",
   "execution_count": 37,
   "metadata": {
    "collapsed": true
   },
   "outputs": [],
   "source": [
    "states['rate'] = states['shootings'] / states['pop_millions']"
   ]
  },
  {
   "cell_type": "code",
   "execution_count": 38,
   "metadata": {
    "collapsed": false
   },
   "outputs": [],
   "source": [
    "# top ten states (ordered by highest police killings per capita)\n",
    "states.sort_values(by = 'rate', ascending = False, inplace = True)"
   ]
  },
  {
   "cell_type": "code",
   "execution_count": 39,
   "metadata": {
    "collapsed": false
   },
   "outputs": [],
   "source": [
    "most_kills = states[:10]['STATE'].values.tolist()\n",
    "least_kills = states[-10:]['STATE'].values.tolist()"
   ]
  },
  {
   "cell_type": "code",
   "execution_count": 40,
   "metadata": {
    "collapsed": false
   },
   "outputs": [],
   "source": [
    "high_kill_state_df = police_killings[police_killings['state_fp'].isin(most_kills)]\n",
    "low_kill_state_df = police_killings[police_killings['state_fp'].isin(least_kills)]"
   ]
  },
  {
   "cell_type": "code",
   "execution_count": 41,
   "metadata": {
    "collapsed": false
   },
   "outputs": [
    {
     "name": "stderr",
     "output_type": "stream",
     "text": [
      "/dataquest/system/env/python3/lib/python3.4/site-packages/numpy/lib/function_base.py:3834: RuntimeWarning: Invalid value encountered in percentile\n",
      "  RuntimeWarning)\n"
     ]
    },
    {
     "data": {
      "text/html": [
       "<div>\n",
       "<table border=\"1\" class=\"dataframe\">\n",
       "  <thead>\n",
       "    <tr style=\"text-align: right;\">\n",
       "      <th></th>\n",
       "      <th>day</th>\n",
       "      <th>year</th>\n",
       "      <th>latitude</th>\n",
       "      <th>longitude</th>\n",
       "      <th>state_fp</th>\n",
       "      <th>county_fp</th>\n",
       "      <th>tract_ce</th>\n",
       "      <th>geo_id</th>\n",
       "      <th>county_id</th>\n",
       "      <th>pop</th>\n",
       "      <th>h_income</th>\n",
       "      <th>county_income</th>\n",
       "      <th>comp_income</th>\n",
       "      <th>county_bucket</th>\n",
       "      <th>nat_bucket</th>\n",
       "      <th>urate</th>\n",
       "      <th>college</th>\n",
       "    </tr>\n",
       "  </thead>\n",
       "  <tbody>\n",
       "    <tr>\n",
       "      <th>count</th>\n",
       "      <td>93.000000</td>\n",
       "      <td>93.0</td>\n",
       "      <td>93.000000</td>\n",
       "      <td>93.000000</td>\n",
       "      <td>93.000000</td>\n",
       "      <td>93.000000</td>\n",
       "      <td>93.000000</td>\n",
       "      <td>9.300000e+01</td>\n",
       "      <td>93.000000</td>\n",
       "      <td>93.000000</td>\n",
       "      <td>92.000000</td>\n",
       "      <td>93.000000</td>\n",
       "      <td>92.000000</td>\n",
       "      <td>84.000000</td>\n",
       "      <td>92.000000</td>\n",
       "      <td>92.000000</td>\n",
       "      <td>92.000000</td>\n",
       "    </tr>\n",
       "    <tr>\n",
       "      <th>mean</th>\n",
       "      <td>15.677419</td>\n",
       "      <td>2015.0</td>\n",
       "      <td>35.631142</td>\n",
       "      <td>-105.733698</td>\n",
       "      <td>19.645161</td>\n",
       "      <td>46.139785</td>\n",
       "      <td>245194.462366</td>\n",
       "      <td>1.969155e+10</td>\n",
       "      <td>19691.301075</td>\n",
       "      <td>4269.344086</td>\n",
       "      <td>43327.152174</td>\n",
       "      <td>48702.172043</td>\n",
       "      <td>0.899455</td>\n",
       "      <td>2.476190</td>\n",
       "      <td>2.260870</td>\n",
       "      <td>0.102894</td>\n",
       "      <td>0.222367</td>\n",
       "    </tr>\n",
       "    <tr>\n",
       "      <th>std</th>\n",
       "      <td>8.992946</td>\n",
       "      <td>0.0</td>\n",
       "      <td>5.938627</td>\n",
       "      <td>15.626754</td>\n",
       "      <td>14.678915</td>\n",
       "      <td>41.976337</td>\n",
       "      <td>367943.438851</td>\n",
       "      <td>1.470474e+10</td>\n",
       "      <td>14704.718133</td>\n",
       "      <td>2100.699519</td>\n",
       "      <td>17537.586163</td>\n",
       "      <td>9785.696088</td>\n",
       "      <td>0.334014</td>\n",
       "      <td>1.366344</td>\n",
       "      <td>1.175478</td>\n",
       "      <td>0.060407</td>\n",
       "      <td>0.141249</td>\n",
       "    </tr>\n",
       "    <tr>\n",
       "      <th>min</th>\n",
       "      <td>1.000000</td>\n",
       "      <td>2015.0</td>\n",
       "      <td>19.915194</td>\n",
       "      <td>-159.642700</td>\n",
       "      <td>2.000000</td>\n",
       "      <td>1.000000</td>\n",
       "      <td>100.000000</td>\n",
       "      <td>2.020001e+09</td>\n",
       "      <td>2020.000000</td>\n",
       "      <td>0.000000</td>\n",
       "      <td>15293.000000</td>\n",
       "      <td>25498.000000</td>\n",
       "      <td>0.330230</td>\n",
       "      <td>1.000000</td>\n",
       "      <td>1.000000</td>\n",
       "      <td>0.011335</td>\n",
       "      <td>0.035051</td>\n",
       "    </tr>\n",
       "    <tr>\n",
       "      <th>25%</th>\n",
       "      <td>7.000000</td>\n",
       "      <td>2015.0</td>\n",
       "      <td>33.326981</td>\n",
       "      <td>-111.800605</td>\n",
       "      <td>4.000000</td>\n",
       "      <td>13.000000</td>\n",
       "      <td>2500.000000</td>\n",
       "      <td>4.021002e+09</td>\n",
       "      <td>4021.000000</td>\n",
       "      <td>2868.000000</td>\n",
       "      <td>NaN</td>\n",
       "      <td>42987.000000</td>\n",
       "      <td>NaN</td>\n",
       "      <td>NaN</td>\n",
       "      <td>NaN</td>\n",
       "      <td>NaN</td>\n",
       "      <td>NaN</td>\n",
       "    </tr>\n",
       "    <tr>\n",
       "      <th>50%</th>\n",
       "      <td>16.000000</td>\n",
       "      <td>2015.0</td>\n",
       "      <td>35.204090</td>\n",
       "      <td>-104.909360</td>\n",
       "      <td>16.000000</td>\n",
       "      <td>27.000000</td>\n",
       "      <td>21903.000000</td>\n",
       "      <td>1.602702e+10</td>\n",
       "      <td>16027.000000</td>\n",
       "      <td>4232.000000</td>\n",
       "      <td>NaN</td>\n",
       "      <td>48801.000000</td>\n",
       "      <td>NaN</td>\n",
       "      <td>NaN</td>\n",
       "      <td>NaN</td>\n",
       "      <td>NaN</td>\n",
       "      <td>NaN</td>\n",
       "    </tr>\n",
       "    <tr>\n",
       "      <th>75%</th>\n",
       "      <td>24.000000</td>\n",
       "      <td>2015.0</td>\n",
       "      <td>38.446102</td>\n",
       "      <td>-95.992844</td>\n",
       "      <td>35.000000</td>\n",
       "      <td>71.000000</td>\n",
       "      <td>388200.000000</td>\n",
       "      <td>3.502796e+10</td>\n",
       "      <td>35027.000000</td>\n",
       "      <td>5375.000000</td>\n",
       "      <td>NaN</td>\n",
       "      <td>53596.000000</td>\n",
       "      <td>NaN</td>\n",
       "      <td>NaN</td>\n",
       "      <td>NaN</td>\n",
       "      <td>NaN</td>\n",
       "      <td>NaN</td>\n",
       "    </tr>\n",
       "    <tr>\n",
       "      <th>max</th>\n",
       "      <td>30.000000</td>\n",
       "      <td>2015.0</td>\n",
       "      <td>61.218408</td>\n",
       "      <td>-75.456352</td>\n",
       "      <td>40.000000</td>\n",
       "      <td>143.000000</td>\n",
       "      <td>980000.000000</td>\n",
       "      <td>4.014301e+10</td>\n",
       "      <td>40143.000000</td>\n",
       "      <td>13561.000000</td>\n",
       "      <td>111464.000000</td>\n",
       "      <td>77454.000000</td>\n",
       "      <td>2.308703</td>\n",
       "      <td>5.000000</td>\n",
       "      <td>5.000000</td>\n",
       "      <td>0.324444</td>\n",
       "      <td>0.824971</td>\n",
       "    </tr>\n",
       "  </tbody>\n",
       "</table>\n",
       "</div>"
      ],
      "text/plain": [
       "             day    year   latitude   longitude   state_fp   county_fp  \\\n",
       "count  93.000000    93.0  93.000000   93.000000  93.000000   93.000000   \n",
       "mean   15.677419  2015.0  35.631142 -105.733698  19.645161   46.139785   \n",
       "std     8.992946     0.0   5.938627   15.626754  14.678915   41.976337   \n",
       "min     1.000000  2015.0  19.915194 -159.642700   2.000000    1.000000   \n",
       "25%     7.000000  2015.0  33.326981 -111.800605   4.000000   13.000000   \n",
       "50%    16.000000  2015.0  35.204090 -104.909360  16.000000   27.000000   \n",
       "75%    24.000000  2015.0  38.446102  -95.992844  35.000000   71.000000   \n",
       "max    30.000000  2015.0  61.218408  -75.456352  40.000000  143.000000   \n",
       "\n",
       "            tract_ce        geo_id     county_id           pop       h_income  \\\n",
       "count      93.000000  9.300000e+01     93.000000     93.000000      92.000000   \n",
       "mean   245194.462366  1.969155e+10  19691.301075   4269.344086   43327.152174   \n",
       "std    367943.438851  1.470474e+10  14704.718133   2100.699519   17537.586163   \n",
       "min       100.000000  2.020001e+09   2020.000000      0.000000   15293.000000   \n",
       "25%      2500.000000  4.021002e+09   4021.000000   2868.000000            NaN   \n",
       "50%     21903.000000  1.602702e+10  16027.000000   4232.000000            NaN   \n",
       "75%    388200.000000  3.502796e+10  35027.000000   5375.000000            NaN   \n",
       "max    980000.000000  4.014301e+10  40143.000000  13561.000000  111464.000000   \n",
       "\n",
       "       county_income  comp_income  county_bucket  nat_bucket      urate  \\\n",
       "count      93.000000    92.000000      84.000000   92.000000  92.000000   \n",
       "mean    48702.172043     0.899455       2.476190    2.260870   0.102894   \n",
       "std      9785.696088     0.334014       1.366344    1.175478   0.060407   \n",
       "min     25498.000000     0.330230       1.000000    1.000000   0.011335   \n",
       "25%     42987.000000          NaN            NaN         NaN        NaN   \n",
       "50%     48801.000000          NaN            NaN         NaN        NaN   \n",
       "75%     53596.000000          NaN            NaN         NaN        NaN   \n",
       "max     77454.000000     2.308703       5.000000    5.000000   0.324444   \n",
       "\n",
       "         college  \n",
       "count  92.000000  \n",
       "mean    0.222367  \n",
       "std     0.141249  \n",
       "min     0.035051  \n",
       "25%          NaN  \n",
       "50%          NaN  \n",
       "75%          NaN  \n",
       "max     0.824971  "
      ]
     },
     "execution_count": 41,
     "metadata": {},
     "output_type": "execute_result"
    }
   ],
   "source": [
    "high_kill_state_df.describe()"
   ]
  },
  {
   "cell_type": "code",
   "execution_count": 42,
   "metadata": {
    "collapsed": false
   },
   "outputs": [],
   "source": [
    "pk = df[df.share_white != '-']\n",
    "pk = pk[pk.share_black != '-']\n",
    "pk = pk[pk.share_hispanic != '-']"
   ]
  },
  {
   "cell_type": "code",
   "execution_count": 52,
   "metadata": {
    "collapsed": false
   },
   "outputs": [],
   "source": [
    "pk['share_white'] = pk['share_white'].astype(float)\n",
    "pk['share_black'] = pk['share_black'].astype(float)\n",
    "pk['share_hispanic'] = pk['share_hispanic'].astype(float)"
   ]
  },
  {
   "cell_type": "code",
   "execution_count": 56,
   "metadata": {
    "collapsed": false
   },
   "outputs": [],
   "source": [
    "cols_to_compare = ['state_fp',\n",
    "                   'pop',\n",
    "                   'county_income',\n",
    "                   'share_white',\n",
    "                   'share_black',\n",
    "                   'share_hispanic']"
   ]
  },
  {
   "cell_type": "code",
   "execution_count": 62,
   "metadata": {
    "collapsed": false
   },
   "outputs": [],
   "source": [
    "pk_high_kill = pk[pk['state_fp'].isin(most_kills)][cols_to_compare]\n",
    "pk_low_kill = pk[pk['state_fp'].isin(least_kills)][cols_to_compare]"
   ]
  },
  {
   "cell_type": "code",
   "execution_count": 63,
   "metadata": {
    "collapsed": false
   },
   "outputs": [
    {
     "data": {
      "text/html": [
       "<div>\n",
       "<table border=\"1\" class=\"dataframe\">\n",
       "  <thead>\n",
       "    <tr style=\"text-align: right;\">\n",
       "      <th></th>\n",
       "      <th>state_fp</th>\n",
       "      <th>pop</th>\n",
       "      <th>county_income</th>\n",
       "      <th>share_white</th>\n",
       "      <th>share_black</th>\n",
       "      <th>share_hispanic</th>\n",
       "    </tr>\n",
       "  </thead>\n",
       "  <tbody>\n",
       "    <tr>\n",
       "      <th>count</th>\n",
       "      <td>92.000000</td>\n",
       "      <td>92.000000</td>\n",
       "      <td>92.000000</td>\n",
       "      <td>92.000000</td>\n",
       "      <td>92.000000</td>\n",
       "      <td>92.000000</td>\n",
       "    </tr>\n",
       "    <tr>\n",
       "      <th>mean</th>\n",
       "      <td>19.619565</td>\n",
       "      <td>4315.750000</td>\n",
       "      <td>48706.967391</td>\n",
       "      <td>55.652174</td>\n",
       "      <td>11.532609</td>\n",
       "      <td>20.693478</td>\n",
       "    </tr>\n",
       "    <tr>\n",
       "      <th>std</th>\n",
       "      <td>14.757261</td>\n",
       "      <td>2063.723609</td>\n",
       "      <td>9839.206872</td>\n",
       "      <td>24.406158</td>\n",
       "      <td>19.591303</td>\n",
       "      <td>20.415690</td>\n",
       "    </tr>\n",
       "    <tr>\n",
       "      <th>min</th>\n",
       "      <td>2.000000</td>\n",
       "      <td>403.000000</td>\n",
       "      <td>25498.000000</td>\n",
       "      <td>2.100000</td>\n",
       "      <td>0.000000</td>\n",
       "      <td>0.000000</td>\n",
       "    </tr>\n",
       "    <tr>\n",
       "      <th>25%</th>\n",
       "      <td>4.000000</td>\n",
       "      <td>2886.000000</td>\n",
       "      <td>42987.000000</td>\n",
       "      <td>39.175000</td>\n",
       "      <td>0.675000</td>\n",
       "      <td>4.350000</td>\n",
       "    </tr>\n",
       "    <tr>\n",
       "      <th>50%</th>\n",
       "      <td>16.000000</td>\n",
       "      <td>4257.500000</td>\n",
       "      <td>48801.000000</td>\n",
       "      <td>58.200000</td>\n",
       "      <td>2.700000</td>\n",
       "      <td>10.850000</td>\n",
       "    </tr>\n",
       "    <tr>\n",
       "      <th>75%</th>\n",
       "      <td>35.000000</td>\n",
       "      <td>5377.000000</td>\n",
       "      <td>53596.000000</td>\n",
       "      <td>74.200000</td>\n",
       "      <td>11.550000</td>\n",
       "      <td>31.725000</td>\n",
       "    </tr>\n",
       "    <tr>\n",
       "      <th>max</th>\n",
       "      <td>40.000000</td>\n",
       "      <td>13561.000000</td>\n",
       "      <td>77454.000000</td>\n",
       "      <td>95.900000</td>\n",
       "      <td>93.100000</td>\n",
       "      <td>81.500000</td>\n",
       "    </tr>\n",
       "  </tbody>\n",
       "</table>\n",
       "</div>"
      ],
      "text/plain": [
       "        state_fp           pop  county_income  share_white  share_black  \\\n",
       "count  92.000000     92.000000      92.000000    92.000000    92.000000   \n",
       "mean   19.619565   4315.750000   48706.967391    55.652174    11.532609   \n",
       "std    14.757261   2063.723609    9839.206872    24.406158    19.591303   \n",
       "min     2.000000    403.000000   25498.000000     2.100000     0.000000   \n",
       "25%     4.000000   2886.000000   42987.000000    39.175000     0.675000   \n",
       "50%    16.000000   4257.500000   48801.000000    58.200000     2.700000   \n",
       "75%    35.000000   5377.000000   53596.000000    74.200000    11.550000   \n",
       "max    40.000000  13561.000000   77454.000000    95.900000    93.100000   \n",
       "\n",
       "       share_hispanic  \n",
       "count       92.000000  \n",
       "mean        20.693478  \n",
       "std         20.415690  \n",
       "min          0.000000  \n",
       "25%          4.350000  \n",
       "50%         10.850000  \n",
       "75%         31.725000  \n",
       "max         81.500000  "
      ]
     },
     "execution_count": 63,
     "metadata": {},
     "output_type": "execute_result"
    }
   ],
   "source": [
    "pk_high_kill.describe()"
   ]
  },
  {
   "cell_type": "code",
   "execution_count": 64,
   "metadata": {
    "collapsed": false
   },
   "outputs": [
    {
     "data": {
      "text/html": [
       "<div>\n",
       "<table border=\"1\" class=\"dataframe\">\n",
       "  <thead>\n",
       "    <tr style=\"text-align: right;\">\n",
       "      <th></th>\n",
       "      <th>state_fp</th>\n",
       "      <th>pop</th>\n",
       "      <th>county_income</th>\n",
       "      <th>share_white</th>\n",
       "      <th>share_black</th>\n",
       "      <th>share_hispanic</th>\n",
       "    </tr>\n",
       "  </thead>\n",
       "  <tbody>\n",
       "    <tr>\n",
       "      <th>count</th>\n",
       "      <td>55.000000</td>\n",
       "      <td>55.000000</td>\n",
       "      <td>55.000000</td>\n",
       "      <td>55.000000</td>\n",
       "      <td>55.000000</td>\n",
       "      <td>55.000000</td>\n",
       "    </tr>\n",
       "    <tr>\n",
       "      <th>mean</th>\n",
       "      <td>32.781818</td>\n",
       "      <td>4153.472727</td>\n",
       "      <td>55037.963636</td>\n",
       "      <td>60.132727</td>\n",
       "      <td>21.610909</td>\n",
       "      <td>12.994545</td>\n",
       "    </tr>\n",
       "    <tr>\n",
       "      <th>std</th>\n",
       "      <td>11.886330</td>\n",
       "      <td>1395.466029</td>\n",
       "      <td>12468.570173</td>\n",
       "      <td>32.653614</td>\n",
       "      <td>27.898976</td>\n",
       "      <td>15.433434</td>\n",
       "    </tr>\n",
       "    <tr>\n",
       "      <th>min</th>\n",
       "      <td>9.000000</td>\n",
       "      <td>1271.000000</td>\n",
       "      <td>34388.000000</td>\n",
       "      <td>0.000000</td>\n",
       "      <td>0.000000</td>\n",
       "      <td>0.000000</td>\n",
       "    </tr>\n",
       "    <tr>\n",
       "      <th>25%</th>\n",
       "      <td>21.000000</td>\n",
       "      <td>3236.500000</td>\n",
       "      <td>46578.500000</td>\n",
       "      <td>38.900000</td>\n",
       "      <td>2.150000</td>\n",
       "      <td>1.800000</td>\n",
       "    </tr>\n",
       "    <tr>\n",
       "      <th>50%</th>\n",
       "      <td>36.000000</td>\n",
       "      <td>4079.000000</td>\n",
       "      <td>53119.000000</td>\n",
       "      <td>72.100000</td>\n",
       "      <td>9.300000</td>\n",
       "      <td>5.900000</td>\n",
       "    </tr>\n",
       "    <tr>\n",
       "      <th>75%</th>\n",
       "      <td>39.000000</td>\n",
       "      <td>4923.500000</td>\n",
       "      <td>59206.000000</td>\n",
       "      <td>88.300000</td>\n",
       "      <td>27.450000</td>\n",
       "      <td>20.350000</td>\n",
       "    </tr>\n",
       "    <tr>\n",
       "      <th>max</th>\n",
       "      <td>55.000000</td>\n",
       "      <td>8222.000000</td>\n",
       "      <td>87763.000000</td>\n",
       "      <td>97.200000</td>\n",
       "      <td>98.900000</td>\n",
       "      <td>71.900000</td>\n",
       "    </tr>\n",
       "  </tbody>\n",
       "</table>\n",
       "</div>"
      ],
      "text/plain": [
       "        state_fp          pop  county_income  share_white  share_black  \\\n",
       "count  55.000000    55.000000      55.000000    55.000000    55.000000   \n",
       "mean   32.781818  4153.472727   55037.963636    60.132727    21.610909   \n",
       "std    11.886330  1395.466029   12468.570173    32.653614    27.898976   \n",
       "min     9.000000  1271.000000   34388.000000     0.000000     0.000000   \n",
       "25%    21.000000  3236.500000   46578.500000    38.900000     2.150000   \n",
       "50%    36.000000  4079.000000   53119.000000    72.100000     9.300000   \n",
       "75%    39.000000  4923.500000   59206.000000    88.300000    27.450000   \n",
       "max    55.000000  8222.000000   87763.000000    97.200000    98.900000   \n",
       "\n",
       "       share_hispanic  \n",
       "count       55.000000  \n",
       "mean        12.994545  \n",
       "std         15.433434  \n",
       "min          0.000000  \n",
       "25%          1.800000  \n",
       "50%          5.900000  \n",
       "75%         20.350000  \n",
       "max         71.900000  "
      ]
     },
     "execution_count": 64,
     "metadata": {},
     "output_type": "execute_result"
    }
   ],
   "source": [
    "pk_low_kill.describe()"
   ]
  },
  {
   "cell_type": "code",
   "execution_count": null,
   "metadata": {
    "collapsed": true
   },
   "outputs": [],
   "source": []
  }
 ],
 "metadata": {
  "kernelspec": {
   "display_name": "Python 3",
   "language": "python",
   "name": "python3"
  },
  "language_info": {
   "codemirror_mode": {
    "name": "ipython",
    "version": 3
   },
   "file_extension": ".py",
   "mimetype": "text/x-python",
   "name": "python",
   "nbconvert_exporter": "python",
   "pygments_lexer": "ipython3",
   "version": "3.4.3"
  }
 },
 "nbformat": 4,
 "nbformat_minor": 0
}
